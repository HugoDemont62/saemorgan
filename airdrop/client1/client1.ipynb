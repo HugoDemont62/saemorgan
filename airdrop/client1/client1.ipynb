{
 "cells": [
  {
   "metadata": {
    "jupyter": {
     "is_executing": true
    },
    "ExecuteTime": {
     "start_time": "2024-06-12T12:09:08.691732Z"
    }
   },
   "cell_type": "code",
   "source": [
    "import socket\n",
    "\n",
    "def client_program():\n",
    "    host_name = \"localhost\"\n",
    "    port_number = 9000\n",
    "\n",
    "    echo_socket = socket.socket(socket.AF_INET, socket.SOCK_STREAM)\n",
    "    echo_socket.connect((host_name, port_number))\n",
    "\n",
    "    try:\n",
    "        # Recevoir le message de connexion du serveur\n",
    "        connection_message = echo_socket.recv(1024).decode('utf-8').strip()\n",
    "        print(f\"Server: {connection_message}\")\n",
    "\n",
    "        # Envoyer le nom du client au serveur\n",
    "        nom = input(\"Indiquez votre nom: \").strip()\n",
    "        echo_socket.sendall(nom.encode('utf-8'))\n",
    "\n",
    "        # Recevoir la demande d'action du serveur\n",
    "        server_message = echo_socket.recv(1024).decode('utf-8').strip()\n",
    "        print(f\"Server: {server_message}\")\n",
    "\n",
    "        # Envoyer le choix au serveur\n",
    "        choice = input(\"0 pour télécharger ou 1 pour uploader: \").strip()\n",
    "        echo_socket.sendall(choice.encode('utf-8'))\n",
    "        if choice == \"0\":\n",
    "            receive_file(echo_socket)\n",
    "        elif choice == \"1\":\n",
    "            upload_file(echo_socket)\n",
    "        else:\n",
    "            print(\"Choix invalide.\")\n",
    "            \n",
    "    #gere les exception\n",
    "    except Exception as e:\n",
    "        print(f\"Error: {e}\")\n",
    "\n",
    "    finally:\n",
    "        echo_socket.close()\n",
    "        print(\"Connection closed.\")\n",
    "\n",
    "def receive_file(echo_socket):\n",
    "    filename = input(\"Indiquez le nom du fichier: \").strip()\n",
    "    echo_socket.sendall(filename.encode('utf-8'))\n",
    "    filename_message = echo_socket.recv(1024).decode('utf-8').strip()\n",
    "    if filename_message.startswith(\"ENVOI\"):\n",
    "        filename = filename_message.split()[1]\n",
    "        with open(filename, 'wb') as file:\n",
    "            while True:\n",
    "                data = echo_socket.recv(1024)\n",
    "                if not data:\n",
    "                    break\n",
    "                file.write(data)\n",
    "        print(f\"File {filename} received successfully.\")\n",
    "    else:\n",
    "        print(f\"Server: {filename_message}\")\n",
    "\n",
    "def upload_file(echo_socket):\n",
    "    filename = input(\"Indiquez le nom du fichier à uploader: \").strip()\n",
    "    echo_socket.sendall(filename.encode('utf-8'))\n",
    "    server_response = echo_socket.recv(1024).decode('utf-8').strip()\n",
    "    if server_response.startswith(\"READY TO RECEIVE\"):\n",
    "        with open(filename, 'rb') as file:\n",
    "            while True:\n",
    "                data = file.read(1024)\n",
    "                if not data:\n",
    "                    break\n",
    "                echo_socket.sendall(data)\n",
    "        print(f\"File {filename} sent successfully.\")\n",
    "    else:\n",
    "        print(f\"Server: {server_response}\")\n",
    "\n",
    "if __name__ == \"__main__\":\n",
    "    client_program()\n",
    "\n"
   ],
   "id": "a1139fedaed09cfc",
   "outputs": [
    {
     "name": "stdout",
     "output_type": "stream",
     "text": [
      "Server: Client connected\n"
     ]
    }
   ],
   "execution_count": null
  },
  {
   "metadata": {
    "jupyter": {
     "is_executing": true
    }
   },
   "cell_type": "code",
   "source": "",
   "id": "2e4c551cfc71080e",
   "outputs": [],
   "execution_count": null
  }
 ],
 "metadata": {
  "kernelspec": {
   "display_name": "Python 3 (ipykernel)",
   "language": "python",
   "name": "python3"
  },
  "language_info": {
   "codemirror_mode": {
    "name": "ipython",
    "version": 3
   },
   "file_extension": ".py",
   "mimetype": "text/x-python",
   "name": "python",
   "nbconvert_exporter": "python",
   "pygments_lexer": "ipython3",
   "version": "3.8.16"
  }
 },
 "nbformat": 4,
 "nbformat_minor": 5
}
