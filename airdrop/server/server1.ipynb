{
 "cells": [
  {
   "metadata": {
    "jupyter": {
     "is_executing": true
    },
    "ExecuteTime": {
     "start_time": "2024-06-11T19:42:23.564208Z"
    }
   },
   "cell_type": "code",
   "source": [
    "import socket\n",
    "import threading\n",
    "import os\n",
    "\n",
    "class EchoServerThread(threading.Thread):\n",
    "    def __init__(self, client_socket, client_address):\n",
    "        threading.Thread.__init__(self)\n",
    "        self.client_socket = client_socket\n",
    "        self.client_address = client_address\n",
    "        print(f\"Connection from {client_address}\")\n",
    "\n",
    "    def run(self):\n",
    "        try:\n",
    "            # Informer le client de la connexion\n",
    "            self.client_socket.sendall(\"Client connected\".encode('utf-8'))\n",
    "\n",
    "            # Recevoir le nom du client\n",
    "            nom = self.client_socket.recv(1024).decode('utf-8').strip()\n",
    "            print(f\"Client name: {nom}\")\n",
    "\n",
    "            # Demander au client s'il veut uploader ou télécharger un fichier\n",
    "            self.client_socket.sendall(\"0 pour télécharger ou 1 pour uploader\".encode('utf-8'))\n",
    "            choice = self.client_socket.recv(1024).decode('utf-8').strip()\n",
    "\n",
    "            if choice == \"0\":\n",
    "                self.send_file()\n",
    "            elif choice == \"1\":\n",
    "                self.receive_file()\n",
    "            else:\n",
    "                self.client_socket.sendall(\"Choix invalide\".encode('utf-8'))\n",
    "                print(f\"Client {nom} a fait un choix invalide.\")\n",
    "\n",
    "        except Exception as e:\n",
    "            print(f\"Error: {e}\")\n",
    "\n",
    "        finally:\n",
    "            self.client_socket.close()\n",
    "            print(f\"Connection with {self.client_address} closed\")\n",
    "\n",
    "    def send_file(self):\n",
    "        filename = self.client_socket.recv(1024).decode('utf-8').strip()\n",
    "        if os.path.exists(filename):\n",
    "            self.client_socket.sendall(f\"ENVOI {filename}\".encode('utf-8'))\n",
    "            with open(filename, 'rb') as file:\n",
    "                while True:\n",
    "                    data = file.read(1024)\n",
    "                    if not data:\n",
    "                        break\n",
    "                    self.client_socket.sendall(data)\n",
    "            print(f\"File {filename} sent successfully.\")\n",
    "        else:\n",
    "            self.client_socket.sendall(\"Le fichier n'existe pas\".encode('utf-8'))\n",
    "\n",
    "    def receive_file(self):\n",
    "        filename = self.client_socket.recv(1024).decode('utf-8').strip()\n",
    "        self.client_socket.sendall(f\"READY TO RECEIVE {filename}\".encode('utf-8'))\n",
    "        with open(filename, 'wb') as file:\n",
    "            while True:\n",
    "                data = self.client_socket.recv(1024)\n",
    "                if not data:\n",
    "                    break\n",
    "                file.write(data)\n",
    "        print(f\"File {filename} received successfully.\")\n",
    "\n",
    "# Définir le numéro de port du serveur\n",
    "port_number = 9000\n",
    "\n",
    "# Indiquer que le serveur écoute les informations arrivant sur son port\n",
    "server_socket = socket.socket(socket.AF_INET, socket.SOCK_STREAM)\n",
    "server_socket.bind(('localhost', port_number))\n",
    "server_socket.listen(1)\n",
    "\n",
    "print(f\"Server is listening on port {port_number}\")\n",
    "\n",
    "while True:\n",
    "    client_socket, client_address = server_socket.accept()\n",
    "    EchoServerThread(client_socket, client_address).start()\n",
    "\n"
   ],
   "id": "9b76542b7bae509d",
   "outputs": [
    {
     "name": "stdout",
     "output_type": "stream",
     "text": [
      "Server is listening on port 9000\n"
     ]
    }
   ],
   "execution_count": null
  }
 ],
 "metadata": {
  "kernelspec": {
   "display_name": "Python 3 (ipykernel)",
   "language": "python",
   "name": "python3"
  },
  "language_info": {
   "codemirror_mode": {
    "name": "ipython",
    "version": 3
   },
   "file_extension": ".py",
   "mimetype": "text/x-python",
   "name": "python",
   "nbconvert_exporter": "python",
   "pygments_lexer": "ipython3",
   "version": "3.8.16"
  }
 },
 "nbformat": 4,
 "nbformat_minor": 5
}
