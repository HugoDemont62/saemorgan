{
 "cells": [
  {
   "cell_type": "markdown",
   "id": "af2043a3-5c5a-40de-9bfc-7e281d654f7a",
   "metadata": {},
   "source": [
    "# Client de type console\n",
    "\n",
    "Ce client est très simple et nous le réutiliserons souvent dans ce module. Il lit le texte tapé au clavier par l'utilisateur et l'envoie au serveur."
   ]
  },
  {
   "cell_type": "code",
   "id": "d75b1001-773a-4f6e-888b-ce1f600d4b99",
   "metadata": {
    "tags": [],
    "jupyter": {
     "is_executing": true
    }
   },
   "source": [
    "#import de bibliothecque\n",
    "import socket\n",
    "\n",
    "#defini les info du socket du serveur\n",
    "host_name = \"localhost\"\n",
    "port_number = 9000\n",
    "\n",
    "echo_socket = socket.socket(socket.AF_INET, socket.SOCK_STREAM)\n",
    "echo_socket.connect((host_name, port_number))\n",
    "\n",
    "\n",
    "#envoi au serveur les info entrer dans la console du client et affiche la reponse du serveur\n",
    "while True:\n",
    "    client_input = input()\n",
    "    echo_socket.send(client_input.encode())\n",
    "    input_data = echo_socket.recv(1024)\n",
    "    input_data_str = input_data.decode('utf-8').strip()\n",
    "    print(f\"server sent: {input_data_str}\")\n",
    "        \n",
    "echo_socket.close()"
   ],
   "outputs": [],
   "execution_count": null
  },
  {
   "cell_type": "code",
   "execution_count": null,
   "id": "903cfa21-4a7b-4804-8696-96837114efef",
   "metadata": {},
   "outputs": [],
   "source": []
  }
 ],
 "metadata": {
  "kernelspec": {
   "display_name": "Python 3 (ipykernel)",
   "language": "python",
   "name": "python3"
  },
  "language_info": {
   "codemirror_mode": {
    "name": "ipython",
    "version": 3
   },
   "file_extension": ".py",
   "mimetype": "text/x-python",
   "name": "python",
   "nbconvert_exporter": "python",
   "pygments_lexer": "ipython3",
   "version": "3.8.16"
  }
 },
 "nbformat": 4,
 "nbformat_minor": 5
}
