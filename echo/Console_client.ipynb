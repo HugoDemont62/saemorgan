{
 "cells": [
  {
   "metadata": {
    "ExecuteTime": {
     "end_time": "2024-06-06T21:30:56.280166Z",
     "start_time": "2024-06-06T21:30:44.562083Z"
    }
   },
   "cell_type": "code",
   "source": [
    "import socket\n",
    "\n",
    "# Définir les informations du socket du serveur\n",
    "host_name = \"localhost\"\n",
    "port_number = 9000\n",
    "\n",
    "echo_socket = socket.socket(socket.AF_INET, socket.SOCK_STREAM)\n",
    "echo_socket.connect((host_name, port_number))\n",
    "\n",
    "try:\n",
    "    # Recevoir le message de connexion du serveur\n",
    "    connection_message = echo_socket.recv(1024).decode('utf-8').strip()\n",
    "    print(f\"Server: {connection_message}\")\n",
    "    \n",
    "    # Recevoir la demande d'identification\n",
    "    server_name = echo_socket.recv(1024).decode('utf-8').strip()\n",
    "    print(f\"confirmation choix nom: {server_name}\")\n",
    "\n",
    "    # Recevoir la réponse (1 ou 0) du serveur\n",
    "    server_choice = echo_socket.recv(1024).decode('utf-8').strip()\n",
    "    print(f\"Server chose: {server_choice}\")\n",
    "\n",
    "    # Envoi au serveur les informations entrées dans la console du client et affiche la réponse du serveur\n",
    "\n",
    "\n",
    "except Exception as e:\n",
    "    print(f\"Error: {e}\")\n",
    "\n",
    "finally:\n",
    "    echo_socket.close()\n",
    "    print(\"Connection closed.\")\n"
   ],
   "id": "a1139fedaed09cfc",
   "outputs": [
    {
     "name": "stdout",
     "output_type": "stream",
     "text": [
      "Server: Client connected\n",
      "confirmation choix nom: morgan\n",
      "Server chose: vous avez choisi de telecharger\n",
      "Connection closed.\n"
     ]
    }
   ],
   "execution_count": 4
  }
 ],
 "metadata": {
  "kernelspec": {
   "display_name": "Python 3 (ipykernel)",
   "language": "python",
   "name": "python3"
  },
  "language_info": {
   "codemirror_mode": {
    "name": "ipython",
    "version": 3
   },
   "file_extension": ".py",
   "mimetype": "text/x-python",
   "name": "python",
   "nbconvert_exporter": "python",
   "pygments_lexer": "ipython3",
   "version": "3.8.16"
  }
 },
 "nbformat": 4,
 "nbformat_minor": 5
}
