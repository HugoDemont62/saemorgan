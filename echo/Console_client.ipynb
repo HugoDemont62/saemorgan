{
 "cells": [
  {
   "cell_type": "markdown",
   "id": "af2043a3-5c5a-40de-9bfc-7e281d654f7a",
   "metadata": {},
   "source": [
    "# Client de type console\n",
    "\n",
    "Ce client est très simple et nous le réutiliserons souvent dans ce module. Il lit le texte tapé au clavier par l'utilisateur et l'envoie au serveur."
   ]
  },
  {
   "cell_type": "code",
   "id": "d75b1001-773a-4f6e-888b-ce1f600d4b99",
   "metadata": {
    "tags": [],
    "ExecuteTime": {
     "end_time": "2024-06-06T12:39:53.319912Z",
     "start_time": "2024-06-06T12:39:50.698620Z"
    }
   },
   "source": [
    "#import de bibliothecque\n",
    "import socket\n",
    "\n",
    "#defini les info du socket du serveur\n",
    "host_name = \"localhost\"\n",
    "port_number = 9000\n",
    "\n",
    "echo_socket = socket.socket(socket.AF_INET, socket.SOCK_STREAM)\n",
    "echo_socket.connect((host_name, port_number))\n",
    "\n",
    "\n",
    "#envoi au serveur les info entrer dans la console du client et affiche la reponse du serveur\n",
    "while True:\n",
    "    client_input = input()\n",
    "    echo_socket.send(client_input.encode())\n",
    "    input_data = echo_socket.recv(1024)\n",
    "    input_data_str = input_data.decode('utf-8').strip()\n",
    "    print(f\"server sent: {input_data_str}\")\n",
    "        \n",
    "echo_socket.close()"
   ],
   "outputs": [
    {
     "ename": "ConnectionRefusedError",
     "evalue": "[WinError 10061] Aucune connexion n’a pu être établie car l’ordinateur cible l’a expressément refusée",
     "output_type": "error",
     "traceback": [
      "\u001B[1;31m---------------------------------------------------------------------------\u001B[0m",
      "\u001B[1;31mConnectionRefusedError\u001B[0m                    Traceback (most recent call last)",
      "Cell \u001B[1;32mIn[1], line 9\u001B[0m\n\u001B[0;32m      6\u001B[0m port_number \u001B[38;5;241m=\u001B[39m \u001B[38;5;241m9000\u001B[39m\n\u001B[0;32m      8\u001B[0m echo_socket \u001B[38;5;241m=\u001B[39m socket\u001B[38;5;241m.\u001B[39msocket(socket\u001B[38;5;241m.\u001B[39mAF_INET, socket\u001B[38;5;241m.\u001B[39mSOCK_STREAM)\n\u001B[1;32m----> 9\u001B[0m echo_socket\u001B[38;5;241m.\u001B[39mconnect((host_name, port_number))\n\u001B[0;32m     12\u001B[0m \u001B[38;5;66;03m#envoi au serveur les info entrer dans la console du client et affiche la reponse du serveur\u001B[39;00m\n\u001B[0;32m     13\u001B[0m \u001B[38;5;28;01mwhile\u001B[39;00m \u001B[38;5;28;01mTrue\u001B[39;00m:\n",
      "\u001B[1;31mConnectionRefusedError\u001B[0m: [WinError 10061] Aucune connexion n’a pu être établie car l’ordinateur cible l’a expressément refusée"
     ]
    }
   ],
   "execution_count": 1
  }
 ],
 "metadata": {
  "kernelspec": {
   "display_name": "Python 3 (ipykernel)",
   "language": "python",
   "name": "python3"
  },
  "language_info": {
   "codemirror_mode": {
    "name": "ipython",
    "version": 3
   },
   "file_extension": ".py",
   "mimetype": "text/x-python",
   "name": "python",
   "nbconvert_exporter": "python",
   "pygments_lexer": "ipython3",
   "version": "3.8.16"
  }
 },
 "nbformat": 4,
 "nbformat_minor": 5
}
