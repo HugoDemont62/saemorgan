{
 "cells": [
  {
   "metadata": {
    "jupyter": {
     "is_executing": true
    },
    "ExecuteTime": {
     "start_time": "2024-06-07T06:50:44.523038Z"
    }
   },
   "cell_type": "code",
   "source": [
    "import socket\n",
    "import threading\n",
    "\n",
    "class EchoServerThread(threading.Thread):\n",
    "    def __init__(self, client_socket, client_address):\n",
    "        threading.Thread.__init__(self)\n",
    "        self.client_socket = client_socket\n",
    "        self.client_address = client_address\n",
    "        print(f\"Connection from {client_address}\")\n",
    "\n",
    "    def run(self):\n",
    "        try:\n",
    "            # Informer le serveur de la connexion du client\n",
    "            self.client_socket.sendall(\"Client connected\".encode('utf-8'))\n",
    "            # identification du client\n",
    "            nom = input(\"indiquer votre nom :\").strip()\n",
    "            self.client_socket.sendall(nom.encode('utf-8'))\n",
    "            print(f\"Client name : {nom}\")\n",
    "            \n",
    "             #envoie du choix au client attendre choix du client et lui confirmer son choix\n",
    "            choice = input(\"0 pour telecharger ou 1 uploader \").strip()\n",
    "            if choice == \"0\":\n",
    "                choice = \"vous avez choisi de telecharger\"\n",
    "            if choice == \"1\":\n",
    "                choice = \"vous avez choisi d'uploader\"\n",
    "            self.client_socket.sendall(choice.encode('utf-8'))\n",
    "            print(f\"Client choose :{choice}\")\n",
    "        \n",
    "        except Exception as e:\n",
    "            print(f\"Error: {e}\")\n",
    "\n",
    "        finally:\n",
    "            self.client_socket.close()\n",
    "            print(f\"Connection with {self.client_address} closed\")\n",
    "\n",
    "# Définir le numéro de port du serveur\n",
    "port_number = 9000\n",
    "\n",
    "# Indiquer que le serveur écoute les informations arrivant sur son port\n",
    "server_socket = socket.socket(socket.AF_INET, socket.SOCK_STREAM)\n",
    "server_socket.bind(('localhost', port_number))\n",
    "server_socket.listen(1)\n",
    "\n",
    "print(f\"Server is listening on port {port_number}\")\n",
    "\n",
    "while True:\n",
    "    client_socket, client_address = server_socket.accept()\n",
    "    EchoServerThread(client_socket, client_address).start()\n"
   ],
   "id": "9b76542b7bae509d",
   "outputs": [
    {
     "name": "stdout",
     "output_type": "stream",
     "text": [
      "Server is listening on port 9000\n",
      "Connection from ('127.0.0.1', 61274)\n",
      "Client name : morgan\n",
      "Client choose vous avez choisi de telecharger\n",
      "Connection with ('127.0.0.1', 61274) closed\n"
     ]
    }
   ],
   "execution_count": null
  }
 ],
 "metadata": {
  "kernelspec": {
   "display_name": "Python 3 (ipykernel)",
   "language": "python",
   "name": "python3"
  },
  "language_info": {
   "codemirror_mode": {
    "name": "ipython",
    "version": 3
   },
   "file_extension": ".py",
   "mimetype": "text/x-python",
   "name": "python",
   "nbconvert_exporter": "python",
   "pygments_lexer": "ipython3",
   "version": "3.8.16"
  }
 },
 "nbformat": 4,
 "nbformat_minor": 5
}
