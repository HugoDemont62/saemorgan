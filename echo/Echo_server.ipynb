{
 "cells": [
  {
   "cell_type": "markdown",
   "id": "d005db35-3d54-4d62-a32d-16ebbc888ce9",
   "metadata": {
    "tags": []
   },
   "source": [
    "# Serveur d'echo\n",
    "\n",
    "Le programme est divisé en 2 parties. \n",
    "\n",
    "## Classe EchoServerThread\n",
    "\n",
    "La [classe](https://fr.wikipedia.org/wiki/Classe_(informatique)) `EchoServerThread` définit le [thread](https://fr.wikipedia.org/wiki/Thread_(informatique)) exécuté lorsqu'un nouveau client se connecte au serveur."
   ]
  },
  {
   "cell_type": "code",
   "id": "01552eda-5c95-4921-89f0-123f19470799",
   "metadata": {
    "tags": [],
    "ExecuteTime": {
     "end_time": "2024-06-06T12:40:06.263552Z",
     "start_time": "2024-06-06T12:40:06.256785Z"
    }
   },
   "source": [
    "#importation de bibliotheque\n",
    "import socket              \n",
    "import threading\n",
    "\n",
    "# defini la class EchoServeurThread qui est un regroupement d'element : ici des focntion\n",
    "class EchoServerThread(threading.Thread):        \n",
    "\n",
    "    # fonction qui initialise les parametres servant a la communication avec le client. \n",
    "    def __init__(self, client_socket, client_address):\n",
    "        threading.Thread.__init__(self)\n",
    "        self.client_socket = client_socket\n",
    "        self.client_address = client_address\n",
    "\n",
    "    # fonction qui recois des données du client (de 1024bit maximun) puis les convertit en chaine de caractere et lui renvoie\n",
    "    def run(self):\n",
    "        while True:\n",
    "            input_data = self.client_socket.recv(1024)                    \n",
    "            if not input_data:\n",
    "                break\n",
    "            input_data_str = input_data.decode('utf-8').strip()    \n",
    "            print(f\"{self.client_address} sent : {input_data_str}\")\n",
    "            \n",
    "            self.client_socket.sendall(input_data)\n",
    "            \n",
    "        self.client_socket.close()"
   ],
   "outputs": [],
   "execution_count": 1
  },
  {
   "cell_type": "markdown",
   "id": "11b1b3eb-e01d-4a85-8912-7a44e70f9c87",
   "metadata": {
    "tags": []
   },
   "source": [
    "## Programme principal\n",
    "\n",
    "On lance le socket du serveur puis, tant que le serveur continue à écouter, à chaque nouvelle connexion d'un client, on lance un thread de type `EchoServerThread`."
   ]
  },
  {
   "cell_type": "code",
   "id": "5ff7ff54-2dc7-4ff5-98ca-79b87af1b2f2",
   "metadata": {
    "tags": [],
    "jupyter": {
     "is_executing": true
    },
    "ExecuteTime": {
     "start_time": "2024-06-06T12:40:06.265561Z"
    }
   },
   "source": [
    "#definition du numero de port du serveur\n",
    "port_number = 8888\n",
    "\n",
    "#indique que le serveur ecoute les information arrivant sur son port\n",
    "listening = True\n",
    "\n",
    "\n",
    "#defini le socket du serveur\n",
    "server_socket = socket.socket(socket.AF_INET, socket.SOCK_STREAM)\n",
    "server_socket.bind(('localhost', port_number))\n",
    "server_socket.listen(1)\n",
    "\n",
    "#affiche le numero de port utiliser par le serveur\n",
    "print(f\"Server is listening on port {port_number}\") \n",
    "\n",
    "\n",
    "#lance la class EchoServeurThread qui qui initialise les parametres servant a la communication avec le client et renvoie le message reçu au client\n",
    "while listening:\n",
    "    (client_socket, client_address) = server_socket.accept()\n",
    "    EchoServerThread(client_socket, client_address).start()"
   ],
   "outputs": [
    {
     "name": "stdout",
     "output_type": "stream",
     "text": [
      "Server is listening on port 9000\n"
     ]
    }
   ],
   "execution_count": null
  },
  {
   "cell_type": "code",
   "id": "7585deeb-a3f2-4e7f-8997-dbe64e872d5a",
   "metadata": {
    "jupyter": {
     "is_executing": true
    }
   },
   "source": [],
   "outputs": [],
   "execution_count": null
  }
 ],
 "metadata": {
  "kernelspec": {
   "display_name": "Python 3 (ipykernel)",
   "language": "python",
   "name": "python3"
  },
  "language_info": {
   "codemirror_mode": {
    "name": "ipython",
    "version": 3
   },
   "file_extension": ".py",
   "mimetype": "text/x-python",
   "name": "python",
   "nbconvert_exporter": "python",
   "pygments_lexer": "ipython3",
   "version": "3.8.16"
  }
 },
 "nbformat": 4,
 "nbformat_minor": 5
}
